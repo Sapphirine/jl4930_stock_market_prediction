{
 "cells": [
  {
   "cell_type": "code",
   "execution_count": 1,
   "metadata": {
    "collapsed": true
   },
   "outputs": [],
   "source": [
    "import requests"
   ]
  },
  {
   "cell_type": "code",
   "execution_count": 2,
   "metadata": {},
   "outputs": [
    {
     "data": {
      "text/plain": [
       "'<!DOCTYPE html>\\r\\n<html>\\r\\n<head>\\r\\n<title>中国石油（601857）利润表_股票F10_网易财经</title>\\r\\n<meta http-equiv=\"Content-Type\" content=\"text/html; charset=utf-8\" />\\r\\n<meta name=\"keywords\" content=\"中国石油,601857,股票F10,中国石油利润表,中国石油财务报表\" />\\r\\n<meta name=\"description\" content=\"提供中国石油(601857)股票的股票F10数据、利润表、财务报表等信息。\" />\\r\\n<meta http-equiv=\"Content-Type\" content=\"text/html; charset=utf-8\" />\\r\\n<meta http-equiv=\"Content-Language\" content=\"zh-CN\" />\\r\\n<meta name=\"robots\" content=\"index, follow\" />\\r\\n<meta name=\"googlebot\" content=\"index, follow\" />\\r\\n<link href=\"http://img1.cache.netease.com/f2e/finance/gegu/s.1064000.css\" rel=\"stylesheet\" type=\"text/css\" charset=\"utf-8\">\\n<link href=\"http://img1.cache.netease.com/f2e/finance/gegu/danmaku.959699.css\" rel=\"stylesheet\" type=\"text/css\" charset=\"utf-8\">\\r\\n</head>\\r\\n<body class=\"test\">\\r\\n<script charset=\"gb2312\" src=\"http://img1.cache.netease.com/cnews/js/ntes_jslib_1.x.js\" language=\"javascript\" type=\"text/javascript\"></script>\\r\\n<div class=\"NTES_bg_\">\\r\\n  <div class=\"NTES-nav\"> <span class=\"nav-link\"><a href=\"http://www.163.com/\">网易首页</a>-<a href=\"http://news.163.com/\">新闻</a>-<a href=\"http://sports.163.com/\">体育</a>-<a href=\"http://sports.163.com/nba/\">NBA</a>-<a href=\"http://ent.163.com/\">娱乐</a>-<a href=\"http://money.163.com/\">财经</a>-<a href=\"http://money.163.com/stock/\">股票</a>-<a href=\"http://auto.163.com/\" id=\"_link_auto\">汽车</a>-<a href=\"http://tech.163.com/\">科技</a>-<a href=\"http://mobile.163.com/\">手机</a>-<a href=\"http://lady.163.com/\">女人</a>-<a href=\"http://bbs.163.com/\">论坛</a>-<a href=\"http://v.163.com/\">视频</a>-<a href=\"http://blog.163.com/\">博客</a>-<a href=\"http://house.163.com/\" id=\"houseUrl\">房产</a>-<a id=\"homeUrl\" href=\"http://home.163.com/\">家居</a>-<a href=\"http://edu.163.com/\">教育</a>-<a href=\"http://book.163.com/\">读书</a>-<a href=\"http://game.163.com/\" id=\"_link_game\">游戏</a>-<a href=\"http://t.163.com/\">微博</a> |</span>\\r\\n    <div class=\"rightCon\">\\r\\n      <div class=\"NTES-link\"> <a href=\"http://email.163.com/\" class=\"cBlue\">免费邮箱</a> - <a href=\"http://reg.163.com/\" class=\"cBlue\">通行证登录</a> </div>\\r\\n      <a href=\"http://www.163.com/rss\"><img width=\"26\" height=\"14\" border=\"0\" src=\"http://img3.cache.netease.com/cnews/img07/rss.gif\" class=\"rss\" alt=\"Rss\"></a> </div>\\r\\n  </div>\\r\\n</div>\\r\\n<script>\\r\\n//<![CDATA[\\r\\nNTES.ready(function($) {\\r\\n    var P_INFO = NTES.cookie.get(\"P_INFO\");\\r\\n    var S_INFO = NTES.cookie.get(\"S_INFO\");\\r\\n    if (P_INFO) {\\r\\n        var mailconfig = {\\r\\n            \"163.com\": \"http://entry.mail.163.com/coremail/fcg/ntesdoor2?verifycookie=1&lightweight=1\",\\r\\n            \"126.com\": \"http://entry.mail.126.com/cgi/ntesdoor?verifycookie=1&lightweight=1&style=-1\",\\r\\n            \"vip.126.com\": \"http://reg.vip.126.com/enterMail.m\",\\r\\n            \"yeah.net\": \"http://entry.yeah.net/cgi/ntesdoor?verifycookie=1&lightweight=1&style=-1\",\\r\\n            \"188\": \"http://reg.mail.188.com/servlet/enter\",\\r\\n            \"vip.163.com\": \"http://reg.vip.163.com/enterMail.m?enterVip=true-----------\"\\r\\n        };\\r\\n        var passport = P_INFO.substr(0, P_INFO.indexOf(\"|\"));\\r\\n        var username = passport.substr(0, P_INFO.indexOf(\"@\"));\\r\\n        var logstate = P_INFO.split(\"|\")[2];\\r\\n        var logiframe = \"\";\\r\\n        var pspt = passport.length >= 6 ? passport.substr(0, 5) + \"...\": passport;\\r\\n        /@([^*]+)/.test(passport);\\r\\n        var logdomain = RegExp.$1;\\r\\n        if (P_INFO && S_INFO || logstate == \"1\") {\\r\\n            var entrylink_html = \\'<a href=\\\\\"http://reg.163.com/Main.jsp?username=\\' + passport + \\'\\\\\">进入通行证</a>\\';\\r\\n            if (mailconfig[logdomain] != undefined) {\\r\\n                entrylink_html += \\'<a href=\\\\\"\\' + mailconfig[logdomain] + \\'\\\\\">进入我的邮箱</a>\\'\\r\\n            }\\r\\n            if (logdomain == \"popo.163.com\" || mailconfig[logdomain] != undefined) {\\r\\n                entrylink_html += \\'<a href=\"http://blog.163.com/passportIn.do?entry=163\">进入我的博客</a><a href=\"http://photo.163.com/?username=\\' + passport + \\'\\\\\">进入我的相册</a>\\'\\r\\n            }\\r\\n            entrylink_html += \\'<a href=\"http://yuehui.163.com/\">进入我的约会</a><a href=\"http://t.163.com\">进入我的微博</a>\\';\\r\\n            if (logdomain == \"163.com\" || logdomain == \"126.com\" || logdomain == \"yeah.net\") {\\r\\n                logiframe = \\'<iframe allowTransparency=\\\\\"true\\\\\" style=\\\\\"width: 56px; height:26px; float:left; vertical-align: middle;\\\\\" id=\\\\\"ifrmNtesMailInfo\\\\\" border=\\\\\"0\\\\\" src=\\\\\"http://p.mail.\\' + logdomain + \\'/mailinfo/shownewmsg_www_1222.htm\\\\\" frameBorder=\\\\\"0\\\\\" scrolling=\\\\\"no\\\\\"></iframe>\\'\\r\\n            }\\r\\n            var login_html = \\'<div class=\\\\\"ntes-usercenter\\\\\"><div class=\\\\\"ntes-usercenter-logined\\\\\"><strong id=\\\\\"ntes_usercenter_name\\\\\" class=\\\\\"ntes-usercenter-name\\\\\" title=\\\\\"欢迎你，\\' + passport + \\'\\\\\">\\' + pspt + \\'</strong></div><div id=\\\\\"ntes_usercenter_entry\\\\\" class=\\\\\"ntes-usercenter-entry\\\\\"><span class=\\\\\"user-entry\\\\\">\\' + entrylink_html + \\'</span></div></div>\\' + logiframe + \\'|<a class=\\\\\"ntes-usercenter-loginout\\\\\" href=\\\\\"http://reg.163.com/Logout.jsp?username=\\' + passport + \\'\\\\\" target=\\\\\"_self\\\\\">退出</a></div>\\';\\r\\n            $(\".NTES-link\")[0].innerHTML = login_html;\\r\\n            $(\"#ntes_usercenter_name\").addEvent(\"click\",\\r\\n            function(e) {\\r\\n                $(\"#ntes_usercenter_entry\").style.display = $(\"#ntes_usercenter_entry\").style.display == \"block\" ? \"none\": \"block\";\\r\\n                e.preventDefault();\\r\\n                e.cancelBubble = true;\\r\\n                document.onclick = function() {\\r\\n                    $(\"#ntes_usercenter_entry\").style.display = \"none\"\\r\\n                }\\r\\n            })\\r\\n        }\\r\\n    }\\r\\n})\\r\\n//]]>\\r\\n</script>\\r\\n\\r\\n<div class=\"area\">\\r\\n    <div class=\"header\">\\r\\n    <div class=\"logo_area\">\\r\\n        <a href=\"http://money.163.com\" class=\"logo\" title=\"网易财经\"></a><span\\r\\n        class=\"title\">个股行情</span>\\r\\n        <span class=\"crumbs\"><a href=\"http://www.163.com\">网易首页</a><span>&gt;</span><a\\r\\n            href=\"http://money.163.com\">网易财经</a><span>&gt;</span><a\\r\\n            href=\"http://quotes.money.163.com\">行情</a><span>&gt;</span><a\\r\\n            href=\"http://quotes.money.163.com\">沪深</a><span>&gt;</span><a\\r\\n            href=\"/0601857.html\">中国石油</a><span>&gt;</span><a\\r\\n                    href=\"#\">利润表</a>\\r\\n                        </span>\\r\\n        <iframe src=\"http://money.163.com/special/ad224_30/\" frameborder=\"0\" scrolling=\"no\" style=\"width:245px;height:40px;border:none;margin-top:-20px;vertical-align: middle;\"></iframe>\\r\\n    </div>\\r\\n    <table class=\"main_nav\">\\r\\n        <tr>\\r\\n            <td><a href=\"http://quotes.money.163.com/\" title=\"行情中心\" target=\"_blank\">行情中心</a></td>\\r\\n            <!--<td><a href=\"\" title=\"数据中心\">数据中心</a></td>\\r\\n            <td><a href=\"\" title=\"资金流向\">资金流向</a></td>-->\\r\\n            <td><a href=\"http://i.money.163.com/\" title=\"我的投资\" class=\"separate\" target=\"_blank\">我的投资</a></td>\\r\\n            <td><a href=\"http://money.163.com/stock\" title=\"股票\" target=\"_blank\">股票</a></td>\\r\\n            <td><a href=\"http://money.163.com/ipo\" title=\"新股\" target=\"_blank\">新股</a></td>\\r\\n            <td><a href=\"http://money.163.com/chinext\" title=\"创业板\" target=\"_blank\">创业板</a></td>\\r\\n            <td><a href=\"http://money.163.com/fund\" title=\"基金\" target=\"_blank\">基金</a></td>\\r\\n            <td><a href=\"http://money.163.com/hkstock\" title=\"港股\" target=\"_blank\">港股</a></td>\\r\\n            <td><a href=\"http://money.163.com/usstock\" title=\"美股\" target=\"_blank\">美股</a></td>\\r\\n            <td><a href=\"http://money.163.com/futures\" title=\"期货\" target=\"_blank\">期货</a></td>\\r\\n            <td><a href=\"http://money.163.com/forex/\" title=\"外汇\" target=\"_blank\">外汇</a></td>\\r\\n        </tr>\\r\\n    </table>\\r\\n    <div class=\"top_info clearfix\">\\r\\n        <div class=\"col_1\">\\r\\n            <span><a class=\"fB\" href=\"http://quotes.money.163.com/0000001.html\" target=\"_blank\">上证指数</a></span>\\r\\n            <span _ntesquote_=\"code:0000001;attr:price;fixed:2;color:updown;bgchg:price\"></span>\\r\\n            <span _ntesquote_=\"code:0000001;attr:updown;fixed:2;color:updown;\"></span>\\r\\n            <span _ntesquote_=\"code:0000001;attr:percent;percent:2;color:updown;\"></span>\\r\\n            <span><em _ntesquote_=\"code:0000001;attr:turnover;fixed:0;/:100000000\"></em>亿</span>\\r\\n        </div>\\r\\n        <div class=\"col_2 separate\">\\r\\n            <div class=\"mystock\">\\r\\n                <a href=\"http://i.money.163.com\" target=\"_blank\" id=\"mystock\" class=\"top_mystock\"></a>\\r\\n            </div>\\r\\n        </div>\\r\\n        <div class=\"col_3\">\\r\\n            <input type=\"button\" class=\"button\" value=\"搜索\" id=\"stockSearchBtn\"><input id=\"stockSearch\" name=\"stock_search\" autocomplete=\"off\" type=\"text\" class=\"field\"  placeholder=\"代码/拼音/名称\">\\r\\n        </div>\\r\\n    </div>\\r\\n    <div class=\"stock_info\">\\r\\n\\t<table>\\r\\n\\t\\t<tr>\\r\\n\\t\\t\\t<td class=\"col_1\">\\r\\n\\t\\t\\t    <h1 class=\"name\">\\r\\n\\t\\t\\t\\t\\t<a href=\\'/0601857.html\\'>中国石油</a>\\r\\n\\t\\t\\t\\t\\t<span>(<a href=\\'/0601857.html\\'>601857</a>)</span>\\r\\n\\t\\t\\t    </h1>\\r\\n\\t\\t\\t</td>\\r\\n\\t\\t\\t<td class=\"col_2\">\\r\\n\\t\\t\\t\\t<div  class=\"stock_detail\">\\r\\n\\t\\t\\t\\t\\t<table>\\r\\n\\t\\t\\t\\t\\t\\t<tr>\\r\\n\\t\\t\\t\\t\\t\\t\\t<td class=\"price\">\\t\\t\\t\\t\\t\\t\\t<span _ntesquote_=\"code:0601857;fmt:pic_updown;\" class=\"price_arrow\"><strong _ntesquote_=\"code:0601857;attr:price;fixed:2;color:updown\"></strong></span><em _ntesquote_=\"code:0601857;attr:updown;fixed:2;color:updown\"></em><br /><em _ntesquote_=\"code:0601857;attr:percent;percent:2;color:updown\"></em>\\r\\n\\t\\t\\t\\t\\t\\t\\t</td>\\r\\n\\t\\t\\t\\t\\t\\t\\t<td>今开：<strong _ntesquote_=\"code:0601857;attr:open;fixed:2;color:updown\"></strong><br />昨收：<strong _ntesquote_=\"code:0601857;attr:yestclose;fixed:2;color:updown\"></strong></td>\\r\\n\\t\\t\\t\\t\\t\\t\\t<td>最高：<strong _ntesquote_=\"code:0601857;attr:high;fixed:2;color:updown\"></strong><br />最低：<strong _ntesquote_=\"code:0601857;attr:low;fixed:2;color:updown\"></strong></td>\\r\\n\\t\\t\\t\\t\\t\\t\\t<td>成交量：<strong _ntesquote_=\"code:0601857;attr:volume;fmt:volume-cut\"></strong><br />成交额：<strong _ntesquote_=\"code:0601857;attr:turnover;fmt:turnover-cut\"></strong></td>\\r\\n\\t\\t\\t\\t\\t\\t\\t<td>量比：<strong>0.82</strong><br />换手：<strong _ntesquote_=\"code:0601857;fmt:huanshou;SCSTC27:16192207.7818\"></strong></td>\\r\\n\\t\\t\\t\\t\\t\\t\\t<td class=\"add_btn_cont\"><a href=\"\" class=\"add_btn\" data-code=\"0601857\"><span>加入自选股</span></a></td>\\r\\n\\t\\t\\t\\t\\t\\t</tr>\\r\\n\\t\\t\\t\\t\\t\\t<tr class=\"stock_bref\">\\r\\n\\t\\t\\t\\t\\t\\t\\t<td><span  _ntesquote_=\"code:0601857;attr:time\" class=\"refresh_time\"></span></td>\\r\\n\\t\\t\\t\\t\\t\\t\\t<td>流通市值：<span _ntesquote_=\"code:0601857;fmt:stockmcap;SCSTC27:16192207.7818\"></span></td>\\r\\n\\t\\t\\t\\t\\t\\t\\t<td title=\\'市盈率=最新股价/最近四个季度每股收益之和\\'>市盈率：<span _ntesquote_=\"code:0601857;fmt:pe;MFSUM:0.12\"></span></td>\\r\\n\\t\\t\\t\\t\\t\\t\\t<td>52周最高：<span class=\"cRed\">8.83</span></td>\\r\\n\\t\\t\\t\\t\\t\\t\\t<td>52周最低：<span class=\"cGreen\">7.39</span></td>\\r\\n\\t\\t\\t\\t\\t\\t\\t<td><a href=\"http://quotes.money.163.com/hkstock/00857.html\" target=\"_blank\">H股：</a><span  _ntesquote_=\"code:hk00857;attr:price;fixed:2;color:updown\">9.82</span>(<span _ntesquote_=\"code:hk00857;attr:percent;percent:2;color:updown\">10.3%</span>)</td>\\r\\n\\t\\t\\t\\t\\t\\t</tr>\\r\\n\\t\\t\\t\\t\\t</table>\\r\\n\\t\\t\\t\\t</div>\\r\\n\\t\\t\\t</td>\\r\\n\\t\\t</tr>\\r\\n\\t</table>\\r\\n</div>\\r\\n<script>\\r\\n\\tvar MONEYSHOWLISTSAVE = 1;\\r\\n</script>\\r\\n    <script type=\"text/javascript\">\\r\\n        var STOCKCODE = \\'0601857\\';\\r\\n        var STOCKSYMBOL = \\'601857\\';\\r\\n        var STOCKNAME = \\'中国石油\\';\\r\\n    </script>\\r\\n</div>\\r\\n    <div id=\"menuCont\" class=\"main_menu_cont\">\\r\\n    <ul class=\"main_menu clearfix\">\\r\\n                    <li class=\"\"><a href=\"/0601857.html#01a01\"><strong>中国石油(601857)</strong></a></li>\\r\\n                        <li class=\"\"><a href=\"/trade/zjlx_601857.html#01b01\">资金流向</a></li>\\r\\n                        <li class=\"current active\"><a href=\"/f10/zycwzb_601857.html#01c01\">财务分析</a></li>\\r\\n                        <li class=\"\"><a href=\"/f10/gdfx_601857.html#01d01\">股东股本</a></li>\\r\\n                        <li class=\"\"><a href=\"/f10/gsgg_601857.html#01e01\">新闻公告</a></li>\\r\\n                        <li class=\"\"><a href=\"/f10/hydb_601857.html#01g01\">行业对比</a></li>\\r\\n                        <li class=\"\"><a href=\"/f10/gszl_601857.html#01f01\">公司资料</a></li>\\r\\n                </ul>\\r\\n    <div class=\"submenu_cont clearfix\">\\r\\n                <div class=\"sub_menu tab_panel clearfix\">\\r\\n            <ul>\\r\\n                                    <li class=\" last\"><a href=\"/0601857.html#01a02\">首页概览</a></li>\\r\\n                                </ul>\\r\\n        </div>\\r\\n                <div class=\"sub_menu tab_panel clearfix\">\\r\\n            <ul>\\r\\n                                    <li class=\"\"><a href=\"/trade/zjlx_601857.html#01b02\">资金流向</a></li>\\r\\n                                        <li class=\"\"><a href=\"/trade/ddtj_601857.html#01b03\">大单统计</a></li>\\r\\n                                        <li class=\"\"><a href=\"/trade/fjb_601857.html#01b04\">分价表</a></li>\\r\\n                                        <li class=\"\"><a href=\"/trade/cjmx_601857.html#01b05\">成交明细</a></li>\\r\\n                                        <li class=\"\"><a href=\"/trade/lhb_601857.html#01b06\">龙虎榜</a></li>\\r\\n                                        <li class=\"\"><a href=\"/trade/lsjysj_601857.html#01b07\">历史交易数据</a></li>\\r\\n                                        <li class=\" last\"><a href=\"/trade/lszjlx_601857.html#01b08\">历史资金流向</a></li>\\r\\n                                </ul>\\r\\n        </div>\\r\\n                <div class=\"sub_menu tab_panel clearfix\">\\r\\n            <ul>\\r\\n                                    <li class=\"\"><a href=\"/f10/zycwzb_601857.html#01c02\">主要财务指标</a></li>\\r\\n                                        <li class=\"\"><a href=\"/f10/yjyg_601857.html#01c03\">业绩预告</a></li>\\r\\n                                        <li class=\"\"><a href=\"/f10/cwbbzy_601857.html#01c04\">财务报表摘要</a></li>\\r\\n                                        <li class=\"\"><a href=\"/f10/zcfzb_601857.html#01c05\">资产负债表</a></li>\\r\\n                                        <li class=\"current\"><a href=\"/f10/lrb_601857.html#01c06\">利润表</a></li>\\r\\n                                        <li class=\"\"><a href=\"/f10/xjllb_601857.html#01c07\">现金流量表</a></li>\\r\\n                                        <li class=\" last\"><a href=\"/f10/dbfx_601857.html#01c08\">杜邦分析</a></li>\\r\\n                                </ul>\\r\\n        </div>\\r\\n                <div class=\"sub_menu tab_panel clearfix\">\\r\\n            <ul>\\r\\n                                    <li class=\"\"><a href=\"/f10/gdfx_601857.html#01d02\">股东分析</a></li>\\r\\n                                        <li class=\"\"><a href=\"/f10/jjcg_601857.html#01d03\">基金持股</a></li>\\r\\n                                        <li class=\"\"><a href=\"/f10/nbcg_601857.html#01d04\">内部持股</a></li>\\r\\n                                        <li class=\" last\"><a href=\"/f10/fhpg_601857.html#01d05\">分红配股</a></li>\\r\\n                                </ul>\\r\\n        </div>\\r\\n                <div class=\"sub_menu tab_panel clearfix\">\\r\\n            <ul>\\r\\n                                    <li class=\"\"><a href=\"/f10/gsgg_601857.html#01e02\">公司公告</a></li>\\r\\n                                        <li class=\" last\"><a href=\"/f10/gsxw_601857.html#01e03\">公司新闻</a></li>\\r\\n                                </ul>\\r\\n        </div>\\r\\n                <div class=\"sub_menu tab_panel clearfix\">\\r\\n            <ul>\\r\\n                                    <li class=\"\"><a href=\"/f10/hydb_601857.html#01g02\">行业对比</a></li>\\r\\n                                        <li class=\"\"><a href=\"/f10/hybk_601857.html#01g03\">行业板块</a></li>\\r\\n                                        <li class=\"\"><a href=\"/f10/gnbk_601857.html#01g04\">概念板块</a></li>\\r\\n                                        <li class=\"\"><a href=\"/f10/qybk_601857.html#01g05\">区域板块</a></li>\\r\\n                                        <li class=\" last\"><a href=\"/f10/zsbk_601857.html#01g06\">指数板块</a></li>\\r\\n                                </ul>\\r\\n        </div>\\r\\n                <div class=\"sub_menu tab_panel clearfix\">\\r\\n            <ul>\\r\\n                                    <li class=\" last\"><a href=\"/f10/gszl_601857.html#01f02\">公司资料</a></li>\\r\\n                                </ul>\\r\\n        </div>\\r\\n            </div>\\r\\n</div>\\r\\n    <div class=\"blank9\"></div>\\r\\n    \\r\\n<h1 class=\"title_01\"> <span class=\"name\">中国石油(601857) 利润表</span> </h1>\\r\\n<div class=\"inner_box\">\\r\\n  <div class=\"scroll_table clearfix\" id=\"scrollTable\">\\r\\n    <ul class=\"kchart_tab_title clearfix\" style=\"margin:0;float:left;\">\\r\\n            <li><a href=\"/f10/lrb_601857.html\" class=\"\">按报告期<span>◆<em>◆</em></span></a></li>\\r\\n      <li><a href=\"/f10/lrb_601857.html?type=year\" class=\"current\">按年度<span>◆<em>◆</em></span></a></li>\\r\\n    </ul>\\r\\n\\t<a href=\"/service/lrb_601857.html?type=year\" class=\"download_link\" id=\"downloadData\">下载数据</a>\\r\\n\\t<div class=\"blank15\"></div>\\r\\n\\t<div class=\"clear\"></div>\\r\\n    <div class=\"col_l\">\\r\\n      <table class=\"table_bg001 border_box limit_sale\">\\r\\n\\t  \\t<thead>\\r\\n\\t\\t\\t<tr class=\"dbrow title\"><th class=\"align_l thead_fix\"><span class=\"scroll_btn_r active\"></span><span class=\"scroll_btn_l\"></span>报告日期</th></tr>\\r\\n\\t\\t</thead>\\r\\n        <tr class=\"upbg\"><td class=\"td_1\"  style=\"border-color:#81A9D1;\"><strong>营业总收入(万元)</strong></td></tr>\\r\\n        <tr class=\"dbrow\"><td class=\"td_1\">营业收入(万元)</td></tr>\\r\\n        <tr><td class=\"td_1\">利息收入(万元)</td></tr>\\r\\n        <tr class=\"dbrow\"><td class=\"td_1\">已赚保费(万元)</td></tr>\\r\\n        <tr><td class=\"td_1\">手续费及佣金收入(万元)</td></tr>\\r\\n        <tr class=\"dbrow\"><td class=\"td_1\">房地产销售收入(万元)</td></tr>\\r\\n        <tr><td class=\"td_1\">其他业务收入(万元)</td></tr>\\r\\n         <tr class=\"upbg\"><td class=\"td_1\"  style=\"border-color:#81A9D1;\"><strong>营业总成本(万元)</strong></td></tr>\\t\\r\\n\\r\\n        <tr><td class=\"td_1\">营业成本(万元)</td></tr>\\r\\n        <tr class=\"dbrow\"><td class=\"td_1\">利息支出(万元)</td></tr>\\r\\n        <tr><td class=\"td_1\">手续费及佣金支出(万元)</td></tr>\\t\\t\\r\\n        <tr class=\"dbrow\"><td class=\"td_1\">房地产销售成本(万元)</td></tr>\\r\\n        <tr><td class=\"td_1\">研发费用(万元)</td></tr>\\t\\t\\t\\t\\r\\n        <tr class=\"dbrow\"><td class=\"td_1\">退保金(万元)</td></tr>\\r\\n        <tr><td class=\"td_1\">赔付支出净额(万元)</td></tr>\\t\\t\\r\\n        <tr class=\"dbrow\"><td class=\"td_1\">提取保险合同准备金净额(万元)</td></tr>\\r\\n        <tr><td class=\"td_1\">保单红利支出(万元)</td></tr>\\t\\t\\t\\r\\n        <tr class=\"dbrow\"><td class=\"td_1\">分保费用(万元)</td></tr>\\r\\n        <tr><td class=\"td_1\">其他业务成本(万元)</td></tr>\\t\\t\\r\\n        <tr class=\"dbrow\"><td class=\"td_1\">营业税金及附加(万元)</td></tr>\\r\\n        <tr><td class=\"td_1\">销售费用(万元)</td></tr>\\t\\t\\t\\t\\r\\n        <tr class=\"dbrow\"><td class=\"td_1\">管理费用(万元)</td></tr>\\r\\n        <tr><td class=\"td_1\">财务费用(万元)</td></tr>\\t\\t\\r\\n        <tr class=\"dbrow\"><td class=\"td_1\">资产减值损失(万元)</td></tr>\\r\\n        <tr><td class=\"td_1\">公允价值变动收益(万元)</td></tr>\\t\\t\\t\\r\\n        <tr class=\"dbrow\"><td class=\"td_1\">投资收益(万元)</td></tr>\\r\\n        <tr><td class=\"td_1\">对联营企业和合营企业的投资收益(万元)</td></tr>\\t\\t\\r\\n        <tr class=\"dbrow\"><td class=\"td_1\">汇兑收益(万元)</td></tr>\\r\\n        <tr><td class=\"td_1\">期货损益(万元)</td></tr>\\t\\t\\t\\t\\r\\n        <tr class=\"dbrow\"><td class=\"td_1\">托管收益(万元)</td></tr>\\r\\n        <tr><td class=\"td_1\">补贴收入(万元)</td></tr>\\t\\t\\r\\n        <tr class=\"dbrow\"><td class=\"td_1\">其他业务利润(万元)</td></tr>\\r\\n         <tr class=\"upbg\"><td class=\"td_1\"  style=\"border-color:#81A9D1;\"><strong>营业利润(万元)</strong></td></tr>\\t\\t\\t\\r\\n\\t\\t\\r\\n\\t\\t<tr class=\"dbrow\"><td class=\"td_1\">营业外收入(万元)</td></tr>\\r\\n        <tr><td class=\"td_1\">营业外支出(万元)</td></tr>\\t\\t\\r\\n\\t\\t<tr class=\"dbrow\"><td class=\"td_1\">非流动资产处置损失(万元)</td></tr>\\r\\n        <tr><td class=\"td_1\">利润总额(万元)</td></tr>\\t\\t\\t\\r\\n\\t\\t<tr class=\"dbrow\"><td class=\"td_1\">所得税费用(万元)</td></tr>\\r\\n        <tr><td class=\"td_1\">未确认投资损失(万元)</td></tr>\\t\\t\\r\\n\\t\\t <tr class=\"upbg\"><td class=\"td_1\"  style=\"border-color:#81A9D1;\"><strong>净利润(万元)</strong></td></tr>\\r\\n\\t\\t\\r\\n\\t\\t<tr><td class=\"td_1\">归属于母公司所有者的净利润(万元)</td></tr>\\t\\t\\r\\n\\t\\t<tr class=\"dbrow\"><td class=\"td_1\">被合并方在合并前实现净利润(万元)</td></tr>\\r\\n\\t\\t<tr><td class=\"td_1\">少数股东损益(万元)</td></tr>\\t\\t\\r\\n\\t\\t<tr class=\"upbg\"><td class=\"td_1\"  style=\"border-color:#81A9D1;\"><strong>每股权益</strong></td></tr>\\r\\n\\t\\t<tr><td class=\"td_1\">基本每股收益</td></tr>\\t\\t\\r\\n\\t\\t<tr class=\"dbrow\"><td class=\"td_1\">稀释每股收益</td></tr>\\t\\t\\r\\n\\t\\t\\r\\n      </table>\\r\\n    </div>\\r\\n    <div class=\"col_r\" style=\"\">\\r\\n      <table class=\"table_bg001 border_box limit_sale scr_table\">\\r\\n        <tr class=\"dbrow\"><th >2016-12-31</th><th >2015-12-31</th><th >2014-12-31</th><th >2013-12-31</th><th >2012-12-31</th><th >2011-12-31</th><th >2010-12-31</th><th >2009-12-31</th><th >2008-12-31</th><th >2007-12-31</th><th >2006-12-31</th><th >2005-12-31</th><th >2004-12-31</th></tr>\\r\\n        <tr class=\"upbg\"><td>161,690,300</td><td>172,542,800</td><td>228,296,200</td><td>225,812,400</td><td>219,529,600</td><td>200,384,300</td><td>146,541,500</td><td>101,927,500</td><td>107,114,600</td><td>83,503,700</td><td>68,897,800</td><td>55,222,900</td><td>38,863,300</td></tr>\\r\\n        <tr class=\"dbrow\"><td>161,690,300</td><td>172,542,800</td><td>228,296,200</td><td>225,812,400</td><td>219,529,600</td><td>200,384,300</td><td>146,541,500</td><td>101,927,500</td><td>107,114,600</td><td>83,503,700</td><td>68,897,800</td><td>55,222,900</td><td>38,863,300</td></tr>\\r\\n        <tr><td>--</td><td>--</td><td>--</td><td>--</td><td>--</td><td>--</td><td>--</td><td>--</td><td>0</td><td>0</td><td>0</td><td>0</td><td>0</td></tr>\\r\\n        <tr class=\"dbrow\"><td>--</td><td>--</td><td>--</td><td>--</td><td>--</td><td>--</td><td>--</td><td>--</td><td>0</td><td>0</td><td>0</td><td>0</td><td>0</td></tr>\\r\\n        <tr><td>--</td><td>--</td><td>--</td><td>--</td><td>--</td><td>--</td><td>--</td><td>--</td><td>0</td><td>0</td><td>0</td><td>0</td><td>0</td></tr>\\r\\n        <tr class=\"dbrow\"><td>--</td><td>--</td><td>--</td><td>--</td><td>--</td><td>--</td><td>--</td><td>--</td><td>0</td><td>0</td><td>0</td><td>0</td><td>0</td></tr>\\r\\n        <tr><td>--</td><td>--</td><td>--</td><td>--</td><td>--</td><td>--</td><td>--</td><td>--</td><td>0</td><td>0</td><td>0</td><td>0</td><td>0</td></tr>\\r\\n        <tr class=\"upbg\"><td>159,699,700</td><td>169,562,500</td><td>214,138,200</td><td>211,718,200</td><td>203,865,200</td><td>183,195,600</td><td>127,937,200</td><td>87,591,900</td><td>92,654,700</td><td>64,738,000</td><td>49,799,700</td><td>36,464,600</td><td>24,790,300</td></tr>\\r\\n\\t\\t\\r\\n\\t\\t<tr class=\"dbrow\"><td>123,570,700</td><td>130,041,900</td><td>173,535,400</td><td>170,184,000</td><td>163,481,900</td><td>142,528,400</td><td>97,020,900</td><td>63,310,000</td><td>68,367,700</td><td>48,711,200</td><td>36,259,000</td><td>27,662,200</td><td>17,988,000</td></tr>\\r\\n        <tr class=\"dbrow\"><td>--</td><td>--</td><td>--</td><td>--</td><td>--</td><td>--</td><td>--</td><td>--</td><td>0</td><td>0</td><td>0</td><td>0</td><td>0</td></tr>\\r\\n\\t\\t<tr><td>--</td><td>--</td><td>--</td><td>--</td><td>--</td><td>--</td><td>--</td><td>--</td><td>0</td><td>0</td><td>0</td><td>0</td><td>0</td></tr>\\r\\n        <tr class=\"dbrow\"><td>--</td><td>--</td><td>--</td><td>--</td><td>--</td><td>--</td><td>--</td><td>--</td><td>0</td><td>0</td><td>0</td><td>0</td><td>0</td></tr>\\r\\n\\t\\t<tr><td>--</td><td>--</td><td>--</td><td>--</td><td>--</td><td>--</td><td>--</td><td>--</td><td>0</td><td>0</td><td>0</td><td>0</td><td>0</td></tr>\\r\\n        <tr class=\"dbrow\"><td>--</td><td>--</td><td>--</td><td>--</td><td>--</td><td>--</td><td>--</td><td>--</td><td>0</td><td>0</td><td>0</td><td>0</td><td>0</td></tr>\\t\\t\\r\\n\\t\\t<tr><td>--</td><td>--</td><td>--</td><td>--</td><td>--</td><td>--</td><td>--</td><td>--</td><td>0</td><td>0</td><td>0</td><td>0</td><td>0</td></tr>\\r\\n        <tr class=\"dbrow\"><td>--</td><td>--</td><td>--</td><td>--</td><td>--</td><td>--</td><td>--</td><td>--</td><td>0</td><td>0</td><td>0</td><td>0</td><td>0</td></tr>\\t\\t\\r\\n\\t\\t<tr><td>--</td><td>--</td><td>--</td><td>--</td><td>--</td><td>--</td><td>--</td><td>--</td><td>0</td><td>0</td><td>0</td><td>0</td><td>0</td></tr>\\r\\n        <tr class=\"dbrow\"><td>--</td><td>--</td><td>--</td><td>--</td><td>--</td><td>--</td><td>--</td><td>--</td><td>0</td><td>0</td><td>0</td><td>0</td><td>0</td></tr>\\r\\n\\t\\t<tr><td>--</td><td>--</td><td>--</td><td>--</td><td>--</td><td>--</td><td>--</td><td>--</td><td>0</td><td>0</td><td>0</td><td>0</td><td>0</td></tr>\\r\\n        <tr class=\"dbrow\"><td>18,784,600</td><td>20,025,500</td><td>22,777,400</td><td>23,866,300</td><td>24,607,800</td><td>25,802,700</td><td>17,766,600</td><td>12,975,600</td><td>11,646,000</td><td>6,867,800</td><td>5,169,200</td><td>1,976,800</td><td>1,637,000</td></tr>\\r\\n\\t\\t<tr><td>6,397,600</td><td>6,296,100</td><td>6,320,700</td><td>6,003,600</td><td>5,503,200</td><td>5,294,600</td><td>5,765,500</td><td>4,821,000</td><td>4,618,900</td><td>4,134,500</td><td>3,505,000</td><td>2,838,100</td><td>2,017,100</td></tr>\\r\\n        <tr class=\"dbrow\"><td>7,595,800</td><td>7,965,900</td><td>8,459,500</td><td>9,056,400</td><td>8,393,600</td><td>7,712,400</td><td>6,341,700</td><td>5,721,300</td><td>5,321,100</td><td>4,932,400</td><td>4,442,900</td><td>3,628,400</td><td>2,489,500</td></tr>\\t\\t\\r\\n\\t\\t<tr><td>2,065,200</td><td>2,382,600</td><td>2,487,700</td><td>2,189,700</td><td>1,682,400</td><td>981,600</td><td>601,700</td><td>519,200</td><td>224,500</td><td>286,900</td><td>132,200</td><td>83,300</td><td>130,800</td></tr>\\r\\n        <tr class=\"dbrow\"><td>1,285,800</td><td>2,850,500</td><td>557,500</td><td>418,200</td><td>196,300</td><td>875,900</td><td>440,800</td><td>244,800</td><td>2,476,500</td><td class=\\'cRed\\'>-194,800</td><td>291,400</td><td>275,800</td><td>527,900</td></tr>\\t\\t\\t\\t\\r\\n\\t\\t<tr><td>--</td><td>--</td><td>--</td><td>--</td><td>--</td><td>--</td><td>--</td><td>--</td><td>0</td><td>0</td><td>0</td><td>0</td><td>0</td></tr>\\r\\n        <tr class=\"dbrow\"><td>2,896,800</td><td>2,662,700</td><td>1,229,700</td><td>1,076,900</td><td>878,700</td><td>1,263,000</td><td>704,300</td><td>140,900</td><td>473,300</td><td>630,100</td><td>134,400</td><td>178,600</td><td>98,200</td></tr>\\r\\n\\t\\t<tr><td>--</td><td>--</td><td>--</td><td>--</td><td>--</td><td>--</td><td>--</td><td>--</td><td>0</td><td>628,300</td><td>125,300</td><td>162,800</td><td>134,400</td></tr>\\r\\n        <tr class=\"dbrow\"><td>--</td><td>--</td><td>--</td><td>--</td><td>--</td><td>--</td><td>--</td><td>--</td><td>0</td><td>0</td><td>0</td><td>0</td><td>0</td></tr>\\r\\n\\t\\t<tr><td>--</td><td>--</td><td>--</td><td>--</td><td>--</td><td>--</td><td>--</td><td>--</td><td>0</td><td>0</td><td>0</td><td>0</td><td>0</td></tr>\\r\\n        <tr class=\"dbrow\"><td>--</td><td>--</td><td>--</td><td>--</td><td>--</td><td>--</td><td>--</td><td>--</td><td>0</td><td>0</td><td>0</td><td>0</td><td>0</td></tr>\\t\\t\\r\\n\\t\\t<tr><td>--</td><td>--</td><td>--</td><td>--</td><td>--</td><td>--</td><td>--</td><td>--</td><td>0</td><td>0</td><td>0</td><td>0</td><td>0</td></tr>\\r\\n\\t\\t<tr class=\"dbrow\"><td>--</td><td>--</td><td>--</td><td>--</td><td>--</td><td>--</td><td>--</td><td>--</td><td>0</td><td>0</td><td>0</td><td>0</td><td>0</td></tr>\\r\\n        <tr class=\"upbg\"><td>4,887,400</td><td>5,643,000</td><td>15,387,700</td><td>15,171,100</td><td>16,543,100</td><td>18,451,700</td><td>19,308,600</td><td>14,476,500</td><td>14,933,200</td><td>19,395,800</td><td>19,232,500</td><td>18,936,900</td><td>14,171,200</td></tr>\\t\\r\\n\\t\\t\\r\\n\\t\\t<tr class=\"dbrow\"><td>1,063,500</td><td>1,295,600</td><td>1,327,400</td><td>3,873,500</td><td>1,157,800</td><td>948,000</td><td>416,200</td><td>368,100</td><td>1,806,700</td><td>309,800</td><td>164,500</td><td>134,100</td><td>243,400</td></tr>\\r\\n        <tr><td>1,431,700</td><td>1,122,000</td><td>1,038,300</td><td>1,243,000</td><td>1,019,900</td><td>972,100</td><td>805,400</td><td>867,900</td><td>629,900</td><td>423,100</td><td>418,000</td><td>568,100</td><td>513,400</td></tr>\\t\\r\\n\\t\\t<tr class=\"dbrow\"><td>--</td><td>--</td><td>--</td><td>--</td><td>--</td><td>--</td><td>--</td><td>--</td><td>0</td><td>157,600</td><td>196,200</td><td>233,300</td><td>348,100</td></tr>\\r\\n        <tr><td>4,519,200</td><td>5,816,600</td><td>15,676,800</td><td>17,801,600</td><td>16,681,000</td><td>18,427,600</td><td>18,919,400</td><td>13,976,700</td><td>16,110,000</td><td>19,282,500</td><td>18,979,000</td><td>18,502,900</td><td>13,901,200</td></tr>\\t\\r\\n\\t\\t<tr class=\"dbrow\"><td>1,577,800</td><td>1,580,200</td><td>3,773,400</td><td>3,578,700</td><td>3,619,200</td><td>3,826,900</td><td>3,851,900</td><td>3,338,900</td><td>3,515,400</td><td>4,933,100</td><td>4,704,300</td><td>5,178,500</td><td>4,004,800</td></tr>\\r\\n        <tr><td>--</td><td>--</td><td>--</td><td>--</td><td>--</td><td>--</td><td>--</td><td>--</td><td>0</td><td>0</td><td>0</td><td>0</td><td>0</td></tr>\\t\\r\\n\\t\\t<tr class=\"upbg\"><td>2,941,400</td><td>4,236,400</td><td>11,903,400</td><td>14,222,900</td><td>13,061,800</td><td>14,600,700</td><td>15,067,500</td><td>10,637,800</td><td>12,594,600</td><td>14,349,400</td><td>14,274,700</td><td>13,324,400</td><td>9,896,400</td></tr>\\r\\n\\t\\t\\r\\n        <tr><td>790,000</td><td>3,565,300</td><td>10,717,300</td><td>12,957,700</td><td>11,532,300</td><td>13,298,400</td><td>13,987,100</td><td>10,317,300</td><td>11,379,800</td><td>13,457,400</td><td>13,622,900</td><td>12,786,700</td><td>9,728,100</td></tr>\\t\\r\\n\\t\\t<tr class=\"dbrow\"><td>--</td><td>--</td><td>--</td><td>--</td><td>--</td><td>--</td><td>--</td><td>--</td><td>393,400</td><td>--</td><td>--</td><td>--</td><td>--</td></tr>\\t\\t\\r\\n        <tr><td>2,151,400</td><td>671,100</td><td>1,186,100</td><td>1,265,200</td><td>1,529,500</td><td>1,302,300</td><td>1,080,400</td><td>320,500</td><td>1,214,800</td><td>892,000</td><td>651,800</td><td>537,700</td><td>168,300</td></tr>\\t\\r\\n\\t\\t<tr class=\"upbg\"><td colspan=\"13\"></td></tr>\\r\\n\\t\\t<tr><td>0.04</td><td>0.19</td><td>0.59</td><td>0.71</td><td>0.63</td><td>0.73</td><td>0.76</td><td>0.56</td><td>0.62</td><td>0.75</td><td>0.76</td><td>0.72</td><td>0.55</td></tr>\\t\\t\\r\\n        <tr class=\"dbrow\"><td>0.04</td><td>0.19</td><td>0.59</td><td>0.71</td><td>0.63</td><td>0.73</td><td>0.76</td><td>0.56</td><td>0.62</td><td>0.75</td><td>0.76</td><td>0.72</td><td>0.55</td></tr>\\t\\r\\n\\t\\t\\r\\n      </table>\\r\\n    </div>\\r\\n  </div>\\r\\n</div>\\r\\n<em id=\"pageIdentityCode\" data-code=\"e4\"></em>\\r\\n<div class=\"blank20\"></div>\\r\\n\\r\\n    <script type=\"text/javascript\">\\nvar f2eConfig = {\\n\\tstockts: \\'http://file.ws.126.net/f2e/finance/gegu/js/stock_ts_js.667271.swf\\',\\n\\tstockkl: \\'http://file.ws.126.net/f2e/finance/gegu/js/stock_kl_js.667271.swf\\'\\n}\\n\\n/*\\nfunction doTracker(){\\n\\tsetTimeout(function(){if(typeof neteaseTracker == \"function\")neteaseTracker();doTracker();},5*60*1000);\\n} \\ndoTracker();\\n*/\\n\\n// 二维码\\n!(function(){\\n\\tvar version = window.navigator.appVersion;\\n\\tvar isIE6 = (version.indexOf(\"MSIE 6.0\") != -1 || version.indexOf(\"MSIE 5.5\") != -1)? true:false;\\n\\tif(location.hostname.indexOf(\"news\") == -1){\\n           showQR(35, \"http://img4.cache.netease.com/stock/2017/5/24/20170524105815a8be1.png\");\\n           // http://img2.cache.netease.com/stock/2014/8/14/20140814165055a7606.jpg\\n           //\\n           // http://img6.cache.netease.com/stock/2014/2/18/20140218110538d9103.jpg 微信易信二维码\\n           //\\n           // http://img2.cache.netease.com/stock/2014/10/21/201410211523115048d.png\\n\\t\\t   // http://img1.cache.netease.com/stock/2014/11/26/201411261107570399d.png\\n           //\\n\\t}\\n\\tfunction showQR(bottom, imgUrl){\\n\\t\\tvar QRbox= document.createElement(\"div\");\\n\\t\\tvar QRboxCSS ={\\n\\t\\t\\t\\'width\\': \"110px\",\\n\\t\\t\\t\\'height\\': \"147px\",\\n\\t\\t\\t\\'position\\': \"fixed\",\\n\\t\\t\\t\\'_position\\': \"absolute\",\\n\\t\\t\\t\\'bottom\\': bottom + \"px\",\\n\\t\\t\\t\\'right\\': \"3px\",\\n\\t\\t\\t\\'display\\':\"block\",\\n\\t\\t\\t\\'zIndex\\':100\\n\\t\\t};\\n\\t\\tfor(var key in QRboxCSS){\\n\\t\\t\\tQRbox.style[key] = QRboxCSS[key];\\n\\t\\t}\\n\\t \\tif(isIE6){\\n\\t \\t\\tQRbox.style.position = \"absolute\";\\n\\t \\t}\\n\\n\\t\\t//QRbox.innerHTML=\"<a href=\\'javascript:;\\' target=\\'_blank\\'></a>\";\\n\\t\\tQRbox.innerHTML=\"<a href=\\'http://money.163.com/special/app_spread230/?tc01\\' target=\\'_blank\\'></a>\";\\n\\t\\tvar link =QRbox.getElementsByTagName(\"a\")[0];\\n\\t\\tvar backgroundImage = \"url(\" + imgUrl + \")\";\\n\\t\\tvar linkCSS = {\\n\\t\\t\\t\\'display\\' : \"block\",\\n\\t\\t\\t\\'width\\' : \"100%\",\\n\\t\\t\\t\\'height\\' : \"100%\",\\n\\t\\t\\t\\'backgroundImage\\' : backgroundImage,\\n\\t\\t\\t\\'backgroundPosition\\' : \"0px 0px\"\\n\\t\\t};\\n\\t\\tfor(var key in linkCSS){\\n\\t\\t\\tlink.style[key] = linkCSS[key]\\n\\t\\t}\\n\\t\\tdocument.body.appendChild(QRbox);\\n\\t\\tvar linkEventMap = {\\n\\t\\t\\t\"mouseover\": function(){\\n\\t\\t\\t\\tlink.style.backgroundPosition = \"-110px 0px\";\\n\\t\\t\\t},\\n\\t\\t\\t\"mouseout\": function(){\\n\\t\\t\\t\\tlink.style.backgroundPosition = \"0px 0px\";\\n\\t\\t\\t}\\n\\t\\t}\\n\\t\\tfor(var evt in linkEventMap){\\n\\t\\t\\tvar func = linkEventMap[evt];\\n\\t\\t\\taddEvent(evt, link, func);\\n\\t\\t}\\n\\t\\t// addEvent(\"scroll\", window, function(){\\n\\t\\t// \\tif( getScrollTop() > 200 ){\\n\\t\\t// \\t\\tQRbox.style.display = \\'block\\';\\n\\t\\t// \\t}else{\\n\\t\\t// \\t\\tQRbox.style.display = \\'none\\';\\n\\t\\t// \\t}\\n\\t\\t// \\tif(isIE6){\\n\\t\\t// \\t\\tQRbox.style.top = getScrollTop() + top + \"px\";\\n\\t\\t// \\t}\\n\\t\\t// });\\n\\t\\tvar body = document.body;\\n\\t\\taddEvent(\"resize\", window, function(){\\n\\t\\t\\tvar bodyWidth = body.clientWidth;\\n\\t\\t\\tif( bodyWidth < 1180 ){\\n\\t\\t\\t\\tQRbox.style.right = (bodyWidth - 1180)/2 + \\'px\\';\\n\\t\\t\\t}else{\\n\\t\\t\\t\\tQRbox.style.right = \\'3px\\';\\n\\t\\t\\t}\\n\\t\\t});\\n\\t}\\n\\tfunction addEvent(evt, elem, callback){\\n\\t\\tif(elem.addEventListener){\\n\\t\\t\\telem.addEventListener(evt, callback, false)\\n\\t\\t} else {\\n\\t\\t\\telem.attachEvent && elem.attachEvent(\"on\"+evt, callback);\\n\\t\\t}\\n\\t}\\n\\tfunction getScrollTop(){\\n\\t    if(typeof pageYOffset!= \\'undefined\\'){\\n\\t        //most browsers\\n\\t        return pageYOffset;\\n\\t    }\\n\\t    else{\\n\\t        var B= document.body; //IE \\'quirks\\'\\n\\t        var D= document.documentElement; //IE with doctype\\n\\t        D= (D.clientHeight)? D: B;\\n\\t        return D.scrollTop;\\n\\t    }\\n\\t}\\n})();\\n\\n</script>\\n<script src=\"http://img1.cache.netease.com/f2e/lib/js/ne.js\"></script>\\n<script src=\"http://img2.cache.netease.com/f2e/libs/jquery.js\"></script>\\n<script src=\"http://img1.cache.netease.com/f2e/finance/gegu/js/ne_gegu_a.VxEO4twoqLvl.1.js\"></script>\\n<script src=\"http://img1.cache.netease.com/f2e/finance/gegu/js/ne_gegu_b.jR2HPJ8AZpUI.1.js\"></script>\\r\\n    <script src=\"http://img1.cache.netease.com/f2e/finance/gegu/js/e.645958.min.js\"></script>\\r\\n    <div class=\"blank20\"></div>\\r\\n    <div class=\"foot\">\\r\\n<div class=\"text\"><a href=\"http://money.163.com/special/zhubianmail/\">主编信箱</a>\\u3000热线:010-82558752\\u3000<a href=\"http://money.163.com/10/1201/14/6MQU982O00251OB6.html\">加入我们</a> <a href=\"http://fankui.163.com/ft/cq.fb?pid=10005\" target=\"_blank\">意见反馈</a>\\u3000</div>\\r\\n<a href=\"http://corp.163.com/\">About NetEase</a> - <a href=\"http://gb.corp.163.com/gb/about/overview.html\">公司简介</a> - <a href=\"http://gb.corp.163.com/gb/contactus.html\">联系方法</a> - <a href=\"http://corp.163.com/gb/job/job.html\">招聘信息</a> - <a href=\"http://help.163.com/\">客户服务</a> - <a href=\"http://gb.corp.163.com/gb/legal.html\">隐私政策</a> - <a href=\"http://emarketing.biz.163.com/\">网络营销</a> - <a href=\"http://sitemap.163.com/\">网站地图</a> <br>\\r\\n网易公司版权所有<br>\\r\\n<span class=\"cRed\">©1997-2017</span>\\r\\n<div class=\"blank20\"></div>\\r\\n</div>\\r\\n<!-- START WRating v1.0 -->\\r\\n<script type=\"text/javascript\" src=\"http://img6.cache.netease.com/common/script/wrating.js\">\\r\\n</script>\\r\\n<script type=\"text/javascript\">\\r\\nvar vjAcc=\"860010-0507010000\";\\r\\nvar wrUrl=\"http://163.wrating.com/\";\\r\\nvjTrack(\"\");\\r\\n</script>\\r\\n<noscript><img src=\"http://163.wrating.com/a.gif?a=&c=860010-0507010000\" width=\"1\" height=\"1\"/></noscript>\\r\\n<!-- END WRating v1.0 -->\\r\\n<!-- START NetEase Devilfish 2006 -->\\r\\n<script src=\"http://analytics.163.com/ntes.js\" type=\"text/javascript\"></script>\\r\\n<script type=\"text/javascript\">\\r\\n_ntes_nacc = \"stock\";     //站点ID。\\r\\nneteaseTracker();\\r\\nneteaseClickStat();\\r\\n</script>\\r\\n<!-- END NetEase Devilfish 2006 -->\\r\\n<!-- START monitor -->\\r\\n<!-- END monitor -->\\r\\n</div>\\r\\n</body>\\r\\n</html>\\r\\n'"
      ]
     },
     "execution_count": 2,
     "metadata": {},
     "output_type": "execute_result"
    }
   ],
   "source": [
    "response = requests.get('http://quotes.money.163.com/f10/lrb_601857.html?type=year')\n",
    "response.text"
   ]
  },
  {
   "cell_type": "code",
   "execution_count": 3,
   "metadata": {
    "collapsed": true
   },
   "outputs": [],
   "source": [
    "import bs4"
   ]
  },
  {
   "cell_type": "code",
   "execution_count": 4,
   "metadata": {},
   "outputs": [],
   "source": [
    "soup = bs4.BeautifulSoup(response.text,\"lxml\")\n",
    "table=soup.find_all('div',class_='col_r')"
   ]
  },
  {
   "cell_type": "code",
   "execution_count": 5,
   "metadata": {},
   "outputs": [
    {
     "data": {
      "text/plain": [
       "[<td>0.04</td>,\n",
       " <td>0.19</td>,\n",
       " <td>0.59</td>,\n",
       " <td>0.71</td>,\n",
       " <td>0.63</td>,\n",
       " <td>0.73</td>,\n",
       " <td>0.76</td>,\n",
       " <td>0.56</td>,\n",
       " <td>0.62</td>,\n",
       " <td>0.75</td>,\n",
       " <td>0.76</td>,\n",
       " <td>0.72</td>,\n",
       " <td>0.55</td>]"
      ]
     },
     "execution_count": 5,
     "metadata": {},
     "output_type": "execute_result"
    }
   ],
   "source": [
    "table[0].find_all('tr')[45].find_all('td')\n"
   ]
  },
  {
   "cell_type": "code",
   "execution_count": 4,
   "metadata": {},
   "outputs": [
    {
     "name": "stdout",
     "output_type": "stream",
     "text": [
      "600110\n",
      "600120\n",
      "600130\n",
      "600140\n",
      "600150\n",
      "600160\n",
      "600170\n",
      "600180\n",
      "600190\n",
      "87\n",
      "87\n",
      "87\n"
     ]
    }
   ],
   "source": [
    "stnb=[]\n",
    "stnm=[]\n",
    "lrb=[]\n",
    "for i in range(600101,600200):\n",
    "    c=[]\n",
    "    response = requests.get('http://quotes.money.163.com/f10/lrb_'+str(i)+'.html?type=year')\n",
    "    soup = bs4.BeautifulSoup(response.text,\"lxml\")\n",
    "    \n",
    "    table=soup.find_all('div',class_='col_r')\n",
    "    \n",
    "    if (i%10==0):\n",
    "        print(i)\n",
    "    if table:\n",
    "        t=table[0].find_all('tr')\n",
    "        if t[0].find_all('th')[0].text != '2016-12-31':\n",
    "            continue\n",
    "        stnb.append(str(i))\n",
    "        \n",
    "        nm=soup.find_all('div',class_=\"stock_info\")\n",
    "        \n",
    "        stnm.append(nm[0].find_all('td',class_='col_1')[0].find_all('a')[0].text)\n",
    "        \n",
    "        row=t[45].find_all('td')\n",
    "        for k in range(1,6):\n",
    "            c.append(row[k].text)\n",
    "        row=t[41].find_all('td')\n",
    "        for k in range(1,6):\n",
    "            c.append(row[k].text)\n",
    "        row=t[1].find_all('td')\n",
    "        for k in range(1,6):\n",
    "            c.append(row[k].text)\n",
    "        \n",
    "        lrb.append(c)\n",
    "    \n",
    "print(len(lrb))\n",
    "print(len(stnb))\n",
    "print(len(stnm))"
   ]
  },
  {
   "cell_type": "code",
   "execution_count": 5,
   "metadata": {},
   "outputs": [
    {
     "name": "stdout",
     "output_type": "stream",
     "text": [
      "600110\n",
      "600120\n",
      "600130\n",
      "600150\n",
      "600160\n",
      "600170\n",
      "600180\n",
      "600190\n",
      "87\n"
     ]
    }
   ],
   "source": [
    "zc=[]\n",
    "ee=[]\n",
    "for i in stnb:\n",
    "    c=[]\n",
    "    response = requests.get('http://quotes.money.163.com/f10/zcfzb_'+i+'.html?type=year')\n",
    "    soup = bs4.BeautifulSoup(response.text,\"lxml\")\n",
    "    \n",
    "    table=soup.find_all('div',class_='col_r')\n",
    "    \n",
    "    if (int(i)%10==0):\n",
    "        print(i)\n",
    "    if table:\n",
    "        t=table[0].find_all('tr')\n",
    "        if t[0].find_all('th')[0].text != '2016-12-31':\n",
    "            ee.append(i)\n",
    "            continue\n",
    "        #c.append(str(i))\n",
    "        \n",
    "        row=t[114].find_all('td')\n",
    "        for k in range(1,6):\n",
    "            c.append(row[k].text)\n",
    "        row=t[100].find_all('td')\n",
    "        for k in range(1,6):\n",
    "            c.append(row[k].text)\n",
    "        \n",
    "        \n",
    "        zc.append(c)\n",
    "    else:\n",
    "        ee.append(i)\n",
    "    \n",
    "print(len(zc))"
   ]
  },
  {
   "cell_type": "code",
   "execution_count": 6,
   "metadata": {},
   "outputs": [
    {
     "name": "stdout",
     "output_type": "stream",
     "text": [
      "87\n",
      "87\n",
      "87\n",
      "87\n"
     ]
    }
   ],
   "source": [
    "print(len(stnb))\n",
    "print(len(stnm))\n",
    "print(len(lrb))\n",
    "print(len(zc))"
   ]
  },
  {
   "cell_type": "code",
   "execution_count": 7,
   "metadata": {},
   "outputs": [
    {
     "name": "stdout",
     "output_type": "stream",
     "text": [
      "600101\n",
      "600112\n",
      "600122\n",
      "600133\n",
      "600148\n",
      "600159\n",
      "600170\n",
      "600182\n",
      "600192\n",
      "79\n"
     ]
    }
   ],
   "source": [
    "gj=[]\n",
    "ind=[]\n",
    "progress=0\n",
    "\n",
    "for i in stnb:\n",
    "    c=[]\n",
    "    response = requests.get('http://quotes.money.163.com/trade/lsjysj_'+i+'.html?year=2016&season=4')\n",
    "    soup = bs4.BeautifulSoup(response.text,\"lxml\")\n",
    "    table=soup.find_all('table',class_=\"table_bg001 border_box limit_sale\")\n",
    "    \n",
    "    if (progress%10==0):\n",
    "        print(i)\n",
    "        \n",
    "    if table:\n",
    "        flag=False\n",
    "        for y in range(2015,2010,-1):\n",
    "            response = requests.get('http://quotes.money.163.com/trade/lsjysj_'+i+'.html?year='+str(y)+'&season=4')\n",
    "            soup = bs4.BeautifulSoup(response.text,\"lxml\")\n",
    "            table=soup.find_all('table',class_=\"table_bg001 border_box limit_sale\")\n",
    "            if table[0].find_all('td'):\n",
    "                c.append(table[0].find_all('td')[4].text)\n",
    "            else:\n",
    "                ind.append(i)\n",
    "                flag=True\n",
    "                break\n",
    "        \n",
    "        response = requests.get('http://quotes.money.163.com/trade/lsjysj_'+i+'.html?year=2016&season=4')\n",
    "        soup = bs4.BeautifulSoup(response.text,\"lxml\")\n",
    "        table=soup.find_all('table',class_=\"table_bg001 border_box limit_sale\")\n",
    "        if table[0].find_all('td'):\n",
    "            c.append(table[0].find_all('td')[4].text)\n",
    "        else:\n",
    "            flag=True\n",
    "            ind.append(i)\n",
    "            \n",
    "        \n",
    "        if not flag:\n",
    "            gj.append(c)\n",
    "    else:\n",
    "        ind.append(i)\n",
    "        \n",
    "    progress=progress+1\n",
    "    \n",
    "print(len(gj))"
   ]
  },
  {
   "cell_type": "code",
   "execution_count": 9,
   "metadata": {},
   "outputs": [
    {
     "name": "stdout",
     "output_type": "stream",
     "text": [
      "['600106', '600121', '600133', '600145', '600153', '600155', '600168', '600189']\n",
      "79\n",
      "79\n",
      "79\n",
      "79\n"
     ]
    }
   ],
   "source": [
    "print(ind)\n",
    "for i in ind:\n",
    "    if i in stnb:\n",
    "        indd=stnb.index(i)\n",
    "        del stnb[indd]\n",
    "        del stnm[indd]\n",
    "        del lrb[indd]\n",
    "        del zc[indd]\n",
    "    \n",
    "print(len(stnb))\n",
    "print(len(stnm))\n",
    "print(len(lrb))\n",
    "print(len(zc))"
   ]
  },
  {
   "cell_type": "code",
   "execution_count": 8,
   "metadata": {},
   "outputs": [
    {
     "name": "stdout",
     "output_type": "stream",
     "text": [
      "['600106', '600121', '600133', '600145', '600153', '600155', '600168', '600189']\n",
      "[]\n"
     ]
    }
   ],
   "source": [
    "print(ind)\n",
    "print(ee)"
   ]
  },
  {
   "cell_type": "code",
   "execution_count": 11,
   "metadata": {
    "collapsed": true
   },
   "outputs": [],
   "source": [
    "import csv\n",
    "\n",
    "with open('stock_28.csv','w',newline ='') as f:\n",
    "    f_csv = csv.writer(f)\n",
    "    for r in range(len(lrb)):\n",
    "        f_csv.writerow([stnb[r]]+[stnm[r]]+lrb[r]+zc[r]+gj[r])"
   ]
  },
  {
   "cell_type": "code",
   "execution_count": 10,
   "metadata": {
    "collapsed": true
   },
   "outputs": [],
   "source": [
    "import csv\n",
    "\n",
    "with open('stock_28.csv','a+',newline ='') as f:\n",
    "    f_csv = csv.writer(f)\n",
    "    for r in range(len(lrb)):\n",
    "        f_csv.writerow([stnb[r]]+[stnm[r]]+lrb[r]+zc[r]+gj[r])"
   ]
  }
 ],
 "metadata": {
  "kernelspec": {
   "display_name": "Python 3",
   "language": "python",
   "name": "python3"
  },
  "language_info": {
   "codemirror_mode": {
    "name": "ipython",
    "version": 3
   },
   "file_extension": ".py",
   "mimetype": "text/x-python",
   "name": "python",
   "nbconvert_exporter": "python",
   "pygments_lexer": "ipython3",
   "version": "3.5.2"
  }
 },
 "nbformat": 4,
 "nbformat_minor": 2
}
